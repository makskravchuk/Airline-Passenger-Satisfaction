{
 "cells": [
  {
   "cell_type": "code",
   "execution_count": 1,
   "id": "91b41a09",
   "metadata": {},
   "outputs": [],
   "source": [
    "import pandas as pd\n",
    "from sklearn.model_selection import train_test_split"
   ]
  },
  {
   "cell_type": "code",
   "execution_count": 2,
   "id": "910e0208",
   "metadata": {},
   "outputs": [],
   "source": [
    "# read train data\n",
    "ds = pd.read_csv(\"../data/dataset.csv\")"
   ]
  },
  {
   "cell_type": "code",
   "execution_count": 3,
   "id": "0bc66ffe",
   "metadata": {},
   "outputs": [],
   "source": [
    "X_columns = [\n",
    "    \"Gender\", \"Customer Type\", \"Age\", \"Type of Travel\", \"Class\",\n",
    "    \"Flight Distance\", \"Inflight wifi service\", \"Departure/Arrival time convenient\",\n",
    "    \"Ease of Online booking\", \"Gate location\", \"Food and drink\",\n",
    "    \"Online boarding\", \"Seat comfort\", \"Inflight entertainment\",\n",
    "    \"On-board service\", \"Leg room service\", \"Baggage handling\",\n",
    "    \"Checkin service\", \"Inflight service\", \"Cleanliness\",\n",
    "    \"Departure Delay in Minutes\", \"Arrival Delay in Minutes\"\n",
    "]"
   ]
  },
  {
   "cell_type": "code",
   "execution_count": 4,
   "id": "67907865",
   "metadata": {},
   "outputs": [],
   "source": [
    "X_train, X_test = train_test_split(ds, train_size=0.9)"
   ]
  },
  {
   "cell_type": "code",
   "execution_count": 5,
   "id": "ed09e558",
   "metadata": {},
   "outputs": [
    {
     "data": {
      "text/plain": [
       "(116892, 25)"
      ]
     },
     "execution_count": 5,
     "metadata": {},
     "output_type": "execute_result"
    }
   ],
   "source": [
    "X_train.shape"
   ]
  },
  {
   "cell_type": "code",
   "execution_count": 6,
   "id": "68a0e603",
   "metadata": {},
   "outputs": [],
   "source": [
    "X_train.to_csv('../data/train_data.csv', index=False)"
   ]
  },
  {
   "cell_type": "code",
   "execution_count": 7,
   "id": "9d5cdfae",
   "metadata": {},
   "outputs": [
    {
     "data": {
      "text/plain": [
       "(12988, 25)"
      ]
     },
     "execution_count": 7,
     "metadata": {},
     "output_type": "execute_result"
    }
   ],
   "source": [
    "X_test.shape"
   ]
  },
  {
   "cell_type": "code",
   "execution_count": 8,
   "id": "b2c917e0",
   "metadata": {},
   "outputs": [],
   "source": [
    "X_test[X_columns].to_csv('../data/new_data.csv', index=False)"
   ]
  }
 ],
 "metadata": {
  "kernelspec": {
   "display_name": "Python 3 (ipykernel)",
   "language": "python",
   "name": "python3"
  },
  "language_info": {
   "codemirror_mode": {
    "name": "ipython",
    "version": 3
   },
   "file_extension": ".py",
   "mimetype": "text/x-python",
   "name": "python",
   "nbconvert_exporter": "python",
   "pygments_lexer": "ipython3",
   "version": "3.11.0"
  }
 },
 "nbformat": 4,
 "nbformat_minor": 5
}
