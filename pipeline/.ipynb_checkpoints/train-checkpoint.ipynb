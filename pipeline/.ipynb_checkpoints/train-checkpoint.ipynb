{
 "cells": [
  {
   "cell_type": "markdown",
   "id": "91ee1d06",
   "metadata": {},
   "source": [
    "## Практична робота №6"
   ]
  },
  {
   "cell_type": "markdown",
   "id": "d6b937ba",
   "metadata": {},
   "source": [
    "## З дисципліни \"Інформаційні технології смарт-систем\""
   ]
  },
  {
   "cell_type": "markdown",
   "id": "73c5044e",
   "metadata": {},
   "source": [
    "## Студента групи КН-305"
   ]
  },
  {
   "cell_type": "markdown",
   "id": "d0b31104",
   "metadata": {},
   "source": [
    "## Кравчука Максима"
   ]
  },
  {
   "cell_type": "markdown",
   "id": "5aaf9965",
   "metadata": {},
   "source": [
    "## Тренування моделі\n"
   ]
  },
  {
   "cell_type": "code",
   "execution_count": 1,
   "id": "7dce9259",
   "metadata": {},
   "outputs": [],
   "source": [
    "import pickle\n",
    "import pandas as pd\n",
    "import numpy as np\n",
    "from sklearn import metrics\n",
    "from sklearn.ensemble import RandomForestClassifier\n",
    "from sklearn.model_selection import train_test_split"
   ]
  },
  {
   "cell_type": "code",
   "execution_count": 2,
   "id": "e81bcb5b",
   "metadata": {},
   "outputs": [],
   "source": [
    "# custom files\n",
    "\n",
    "import model_best_hyperparameters\n",
    "import columns"
   ]
  },
  {
   "cell_type": "code",
   "execution_count": 3,
   "id": "68d47432",
   "metadata": {},
   "outputs": [],
   "source": [
    "# read train data\n",
    "ds = pd.read_csv(\"../data/train_data.csv\")"
   ]
  },
  {
   "cell_type": "code",
   "execution_count": 4,
   "id": "60a5097f",
   "metadata": {},
   "outputs": [],
   "source": [
    "# feature engineering\n",
    "\n",
    "# Missing data imputation\n",
    "\n",
    "def impute_na(df, variable, value):\n",
    "    return df[variable].fillna(value)"
   ]
  },
  {
   "cell_type": "markdown",
   "id": "97525142",
   "metadata": {},
   "source": [
    "# Missing data imputation"
   ]
  },
  {
   "cell_type": "code",
   "execution_count": null,
   "id": "23e9cc23",
   "metadata": {},
   "outputs": [],
   "source": [
    "# Заміна пропущених значень на медіану\n",
    "ds['Arrival Delay in Minutes'] = impute_na(ds, 'Arrival Delay in Minutes', columns.median_arrival_delay)"
   ]
  },
  {
   "cell_type": "code",
   "execution_count": 7,
   "id": "c254292d",
   "metadata": {},
   "outputs": [
    {
     "name": "stdout",
     "output_type": "stream",
     "text": [
      "There aren't missing data\n",
      "There aren't missing data\n",
      "There aren't missing data\n",
      "There aren't missing data\n",
      "There aren't missing data\n",
      "There aren't missing data\n",
      "There aren't missing data\n",
      "There aren't missing data\n",
      "There aren't missing data\n",
      "There aren't missing data\n",
      "There aren't missing data\n",
      "There aren't missing data\n",
      "There aren't missing data\n",
      "There aren't missing data\n",
      "There aren't missing data\n",
      "There aren't missing data\n",
      "There aren't missing data\n",
      "There aren't missing data\n",
      "There aren't missing data\n",
      "There aren't missing data\n"
     ]
    }
   ],
   "source": [
    "for col in ds.columns:\n",
    "    if ds[col].isnull().values.any():\n",
    "        print(\"Missing data in \", col, ds[col].isnull().sum())\n",
    "    else:\n",
    "        print(\"There aren't missing data\")"
   ]
  },
  {
   "cell_type": "markdown",
   "id": "bb7c9678",
   "metadata": {},
   "source": [
    "## Categorical encoding"
   ]
  },
  {
   "cell_type": "code",
   "execution_count": null,
   "id": "9cd87804",
   "metadata": {},
   "outputs": [],
   "source": [
    "# for one hot encoding with sklearn\n",
    "from sklearn.preprocessing import OneHotEncoder"
   ]
  },
  {
   "cell_type": "code",
   "execution_count": null,
   "id": "76707512",
   "metadata": {},
   "outputs": [],
   "source": []
  },
  {
   "cell_type": "markdown",
   "id": "066737d8",
   "metadata": {},
   "source": [
    "## Видалення непотрібних стовпців"
   ]
  },
  {
   "cell_type": "code",
   "execution_count": 14,
   "id": "5b70b8a1",
   "metadata": {},
   "outputs": [],
   "source": [
    "# Видалення непотрібних стовпців\n",
    "columns_to_drop = ['Unnamed: 0', 'Booking_ID', 'arrival_year', 'arrival_month', 'arrival_date', \n",
    "                   'type_of_meal_plan', 'market_segment_type',  'room_type_reserved']\n",
    "ds = ds.drop(columns_to_drop, axis=1)"
   ]
  },
  {
   "cell_type": "code",
   "execution_count": 15,
   "id": "8b98c81a",
   "metadata": {},
   "outputs": [],
   "source": [
    "# save parameters \n",
    "param_dict = {'median_impute_values':median_impute_values,\n",
    "              'mode_impute_values':mode_impute_values,\n",
    "             }\n",
    "with open('param_dict.pickle', 'wb') as handle:\n",
    "    pickle.dump(param_dict, handle, protocol=pickle.HIGHEST_PROTOCOL)"
   ]
  },
  {
   "cell_type": "code",
   "execution_count": 16,
   "id": "6414a1c5",
   "metadata": {},
   "outputs": [],
   "source": [
    "# Define target and features columns\n",
    "X = ds[columns.X_columns]\n",
    "y = ds[columns.y_column]"
   ]
  },
  {
   "cell_type": "code",
   "execution_count": 17,
   "id": "ab915d2a",
   "metadata": {},
   "outputs": [],
   "source": [
    "# Let's say we want to split the data in 90:10 for train:test dataset\n",
    "X_train, X_test, y_train, y_test = train_test_split(X,y, train_size=0.9)"
   ]
  },
  {
   "cell_type": "code",
   "execution_count": 18,
   "id": "07b513bd",
   "metadata": {},
   "outputs": [
    {
     "name": "stdout",
     "output_type": "stream",
     "text": [
      "test set metrics:                precision    recall  f1-score   support\n",
      "\n",
      "           0       0.77      0.73      0.75      1002\n",
      "           1       0.88      0.90      0.89      2263\n",
      "\n",
      "    accuracy                           0.85      3265\n",
      "   macro avg       0.83      0.82      0.82      3265\n",
      "weighted avg       0.85      0.85      0.85      3265\n",
      "\n"
     ]
    }
   ],
   "source": [
    "# Building and train Random Forest Model\n",
    "rf = RandomForestClassifier(**model_best_hyperparameters.params)\n",
    "rf.fit(X_train, y_train)\n",
    "y_pred = rf.predict(X_test)\n",
    "print('test set metrics: ', metrics.classification_report(y_test, y_pred))"
   ]
  },
  {
   "cell_type": "code",
   "execution_count": 19,
   "id": "4999b321",
   "metadata": {},
   "outputs": [],
   "source": [
    "filename = 'finalized_model.sav'\n",
    "pickle.dump(rf, open(filename, 'wb'))"
   ]
  }
 ],
 "metadata": {
  "kernelspec": {
   "display_name": "Python 3 (ipykernel)",
   "language": "python",
   "name": "python3"
  },
  "language_info": {
   "codemirror_mode": {
    "name": "ipython",
    "version": 3
   },
   "file_extension": ".py",
   "mimetype": "text/x-python",
   "name": "python",
   "nbconvert_exporter": "python",
   "pygments_lexer": "ipython3",
   "version": "3.11.0"
  }
 },
 "nbformat": 4,
 "nbformat_minor": 5
}
